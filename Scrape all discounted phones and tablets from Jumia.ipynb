{
 "cells": [
  {
   "cell_type": "code",
   "execution_count": 98,
   "id": "971d7962-f9ee-4e08-b486-eeb52a2cf6b5",
   "metadata": {},
   "outputs": [
    {
     "name": "stdout",
     "output_type": "stream",
     "text": [
      "['https://www.jumia.co.ke/phones-tablets/all-products/#catalog-listing', 'https://www.jumia.co.ke/phones-tablets/all-products/?page=2#catalog-listing', 'https://www.jumia.co.ke/phones-tablets/all-products/?page=3#catalog-listing', 'https://www.jumia.co.ke/phones-tablets/all-products/?page=4#catalog-listing', 'https://www.jumia.co.ke/phones-tablets/all-products/?page=5#catalog-listing', 'https://www.jumia.co.ke/phones-tablets/all-products/?page=6#catalog-listing', 'https://www.jumia.co.ke/phones-tablets/all-products/?page=7#catalog-listing', 'https://www.jumia.co.ke/phones-tablets/all-products/?page=8#catalog-listing', 'https://www.jumia.co.ke/phones-tablets/all-products/?page=9#catalog-listing', 'https://www.jumia.co.ke/phones-tablets/all-products/?page=10#catalog-listing', 'https://www.jumia.co.ke/phones-tablets/all-products/?page=11#catalog-listing', 'https://www.jumia.co.ke/phones-tablets/all-products/?page=12#catalog-listing', 'https://www.jumia.co.ke/phones-tablets/all-products/?page=13#catalog-listing', 'https://www.jumia.co.ke/phones-tablets/all-products/?page=14#catalog-listing', 'https://www.jumia.co.ke/phones-tablets/all-products/?page=15#catalog-listing', 'https://www.jumia.co.ke/phones-tablets/all-products/?page=16#catalog-listing', 'https://www.jumia.co.ke/phones-tablets/all-products/?page=17#catalog-listing', 'https://www.jumia.co.ke/phones-tablets/all-products/?page=18#catalog-listing', 'https://www.jumia.co.ke/phones-tablets/all-products/?page=19#catalog-listing', 'https://www.jumia.co.ke/phones-tablets/all-products/?page=20#catalog-listing', 'https://www.jumia.co.ke/phones-tablets/all-products/?page=21#catalog-listing', 'https://www.jumia.co.ke/phones-tablets/all-products/?page=22#catalog-listing', 'https://www.jumia.co.ke/phones-tablets/all-products/?page=23#catalog-listing', 'https://www.jumia.co.ke/phones-tablets/all-products/?page=24#catalog-listing', 'https://www.jumia.co.ke/phones-tablets/all-products/?page=25#catalog-listing', 'https://www.jumia.co.ke/phones-tablets/all-products/?page=26#catalog-listing', 'https://www.jumia.co.ke/phones-tablets/all-products/?page=27#catalog-listing', 'https://www.jumia.co.ke/phones-tablets/all-products/?page=28#catalog-listing', 'https://www.jumia.co.ke/phones-tablets/all-products/?page=29#catalog-listing', 'https://www.jumia.co.ke/phones-tablets/all-products/?page=30#catalog-listing', 'https://www.jumia.co.ke/phones-tablets/all-products/?page=31#catalog-listing', 'https://www.jumia.co.ke/phones-tablets/all-products/?page=32#catalog-listing', 'https://www.jumia.co.ke/phones-tablets/all-products/?page=33#catalog-listing', 'https://www.jumia.co.ke/phones-tablets/all-products/?page=34#catalog-listing', 'https://www.jumia.co.ke/phones-tablets/all-products/?page=35#catalog-listing', 'https://www.jumia.co.ke/phones-tablets/all-products/?page=36#catalog-listing', 'https://www.jumia.co.ke/phones-tablets/all-products/?page=37#catalog-listing', 'https://www.jumia.co.ke/phones-tablets/all-products/?page=38#catalog-listing', 'https://www.jumia.co.ke/phones-tablets/all-products/?page=39#catalog-listing', 'https://www.jumia.co.ke/phones-tablets/all-products/?page=40#catalog-listing', 'https://www.jumia.co.ke/phones-tablets/all-products/?page=41#catalog-listing', 'https://www.jumia.co.ke/phones-tablets/all-products/?page=42#catalog-listing', 'https://www.jumia.co.ke/phones-tablets/all-products/?page=43#catalog-listing', 'https://www.jumia.co.ke/phones-tablets/all-products/?page=44#catalog-listing', 'https://www.jumia.co.ke/phones-tablets/all-products/?page=45#catalog-listing', 'https://www.jumia.co.ke/phones-tablets/all-products/?page=46#catalog-listing', 'https://www.jumia.co.ke/phones-tablets/all-products/?page=47#catalog-listing', 'https://www.jumia.co.ke/phones-tablets/all-products/?page=48#catalog-listing', 'https://www.jumia.co.ke/phones-tablets/all-products/?page=49#catalog-listing', 'https://www.jumia.co.ke/phones-tablets/all-products/?page=50#catalog-listing']\n"
     ]
    },
    {
     "data": {
      "text/html": [
       "<div>\n",
       "<style scoped>\n",
       "    .dataframe tbody tr th:only-of-type {\n",
       "        vertical-align: middle;\n",
       "    }\n",
       "\n",
       "    .dataframe tbody tr th {\n",
       "        vertical-align: top;\n",
       "    }\n",
       "\n",
       "    .dataframe thead th {\n",
       "        text-align: right;\n",
       "    }\n",
       "</style>\n",
       "<table border=\"1\" class=\"dataframe\">\n",
       "  <thead>\n",
       "    <tr style=\"text-align: right;\">\n",
       "      <th></th>\n",
       "      <th>Name</th>\n",
       "      <th>Price</th>\n",
       "      <th>Old Price</th>\n",
       "      <th>discount</th>\n",
       "      <th>Stars and Reviews</th>\n",
       "      <th>Items Left</th>\n",
       "    </tr>\n",
       "  </thead>\n",
       "  <tbody>\n",
       "    <tr>\n",
       "      <th>0</th>\n",
       "      <td>RichRipple Pro3 Bluetooth Headsets Wireless Po...</td>\n",
       "      <td>KSh 465</td>\n",
       "      <td>KSh 754</td>\n",
       "      <td>38%</td>\n",
       "      <td>4 out of 5(560)</td>\n",
       "      <td>Out of stock</td>\n",
       "    </tr>\n",
       "    <tr>\n",
       "      <th>1</th>\n",
       "      <td>RichRipple LED Display Bluetooth Headsets 9D S...</td>\n",
       "      <td>KSh 465</td>\n",
       "      <td>KSh 920</td>\n",
       "      <td>49%</td>\n",
       "      <td>3.7 out of 5(1002)</td>\n",
       "      <td>Out of stock</td>\n",
       "    </tr>\n",
       "    <tr>\n",
       "      <th>2</th>\n",
       "      <td>RichRipple Pro3 Bluetooth Headsets Wireless Po...</td>\n",
       "      <td>KSh 465</td>\n",
       "      <td>KSh 826</td>\n",
       "      <td>44%</td>\n",
       "      <td>3.9 out of 5(493)</td>\n",
       "      <td>Out of stock</td>\n",
       "    </tr>\n",
       "    <tr>\n",
       "      <th>3</th>\n",
       "      <td>XIAOMI Redmi A3, 6.71\", 4GB RAM +128GB (Dual S...</td>\n",
       "      <td>KSh 9,999</td>\n",
       "      <td>KSh 11,500</td>\n",
       "      <td>13%</td>\n",
       "      <td>4.3 out of 5(55)</td>\n",
       "      <td>Out of stock</td>\n",
       "    </tr>\n",
       "    <tr>\n",
       "      <th>4</th>\n",
       "      <td>Ace Elec ACEELEC F9 Wireless Fingerprint Touch...</td>\n",
       "      <td>KSh 395</td>\n",
       "      <td>KSh 790</td>\n",
       "      <td>50%</td>\n",
       "      <td>3.8 out of 5(904)</td>\n",
       "      <td>Out of stock</td>\n",
       "    </tr>\n",
       "  </tbody>\n",
       "</table>\n",
       "</div>"
      ],
      "text/plain": [
       "                                                Name      Price   Old Price  \\\n",
       "0  RichRipple Pro3 Bluetooth Headsets Wireless Po...    KSh 465     KSh 754   \n",
       "1  RichRipple LED Display Bluetooth Headsets 9D S...    KSh 465     KSh 920   \n",
       "2  RichRipple Pro3 Bluetooth Headsets Wireless Po...    KSh 465     KSh 826   \n",
       "3  XIAOMI Redmi A3, 6.71\", 4GB RAM +128GB (Dual S...  KSh 9,999  KSh 11,500   \n",
       "4  Ace Elec ACEELEC F9 Wireless Fingerprint Touch...    KSh 395     KSh 790   \n",
       "\n",
       "  discount   Stars and Reviews     Items Left  \n",
       "0      38%     4 out of 5(560)   Out of stock  \n",
       "1      49%  3.7 out of 5(1002)   Out of stock  \n",
       "2      44%   3.9 out of 5(493)   Out of stock  \n",
       "3      13%    4.3 out of 5(55)   Out of stock  \n",
       "4      50%   3.8 out of 5(904)   Out of stock  "
      ]
     },
     "execution_count": 98,
     "metadata": {},
     "output_type": "execute_result"
    }
   ],
   "source": [
    "# Importing Modules\n",
    "import pandas as pd\n",
    "from bs4 import BeautifulSoup\n",
    "import requests\n",
    "from urllib.parse import urljoin\n",
    "url = 'https://www.jumia.co.ke/phones-tablets/all-products/#catalog-listing' \n",
    "links = []\n",
    "\n",
    "# Extracting links from both pages\n",
    "\n",
    "while True:\n",
    "    links.append(url)\n",
    "    response = requests.get(url)\n",
    "    soup = BeautifulSoup(response.text, 'html.parser')\n",
    "    next_page = soup.find('a',{'class':'pg', 'aria-label':'Next Page'})\n",
    "    if next_page:\n",
    "        next_url = next_page.get('href')\n",
    "        url = urljoin(url,next_url)\n",
    "    else:\n",
    "        break\n",
    "\n",
    "# Checking if the links from 2 pages have been added to the list\n",
    "print(links)\n",
    "\n",
    "details_list = []\n",
    "\n",
    "# Scraping data from the 2 pages\n",
    "for url in links:\n",
    "    response = requests.get(url)\n",
    "    soup = BeautifulSoup(response.text, 'html.parser')\n",
    "    details = soup.find_all('div', class_ = 'info')\n",
    "    footers  = soup.find_all('footer', class_ = 'ft')\n",
    "    \n",
    "    for detail,footer in zip(details,footers):\n",
    "        name = detail.find('h3', class_ = 'name').text.strip()\n",
    "        price =  detail.find('div', class_ = 'prc').text.strip()\n",
    "        try:\n",
    "            old_price = detail.find('div', class_ = 'old').text.strip()\n",
    "        except:\n",
    "            old_price = \" \"\n",
    "        try:\n",
    "            discount = detail.find('div', class_ = 'bdg _dsct _sm').text.strip()\n",
    "        except:\n",
    "            discount = \" \"\n",
    "        try:\n",
    "            stars_reviews = detail.find('div', class_ = 'rev').text.strip()\n",
    "        except:\n",
    "            stars_reviews = \" \"\n",
    "    \n",
    "        try:\n",
    "            items_left = footer.find('div', class_ = 'stk').text.strip()\n",
    "        except:\n",
    "            items_left = \" Out of stock\"\n",
    "            \n",
    "            \n",
    "    \n",
    "        details_dict = {'Name':name,'Price':price,'Old Price':old_price,'discount':discount,'Stars and Reviews':stars_reviews,'Items Left':items_left}\n",
    "        details_list.append(details_dict)\n",
    "        \n",
    "phones_tablets_data = pd.DataFrame(details_list)\n",
    "phones_tablets_data.head()"
   ]
  },
  {
   "cell_type": "code",
   "execution_count": 100,
   "id": "1cee23a2-e26f-4714-a555-0c98928e4701",
   "metadata": {},
   "outputs": [
    {
     "data": {
      "text/plain": [
       "(2000, 6)"
      ]
     },
     "execution_count": 100,
     "metadata": {},
     "output_type": "execute_result"
    }
   ],
   "source": [
    "phones_tablets_data.shape"
   ]
  },
  {
   "cell_type": "markdown",
   "id": "8d57dcc6-a68a-4a72-b32b-cf4feefe013e",
   "metadata": {},
   "source": [
    "## store Scraped data into a database"
   ]
  },
  {
   "cell_type": "code",
   "execution_count": 102,
   "id": "988f999e-a080-41fe-b0a8-0b997ad8290d",
   "metadata": {},
   "outputs": [
    {
     "name": "stdout",
     "output_type": "stream",
     "text": [
      "Data has been successfully stored in a database\n"
     ]
    }
   ],
   "source": [
    "import sqlite3\n",
    "\n",
    "# connct to as SQLite database\n",
    "conn = sqlite3.connect('phones_tablets_data.db')\n",
    "\n",
    "# Create a cursor object\n",
    "cursor = conn.cursor()\n",
    "\n",
    "# Create a table\n",
    "cursor.execute(\n",
    "    '''\n",
    "    CREATE TABLE IF NOT EXISTS phones_tablets(\n",
    "    id INTEGER PRIMARY KEY AUTOINCREMENT,\n",
    "    name TEXT,\n",
    "    price TEXT,\n",
    "    old_price,\n",
    "    discount TEXT,\n",
    "    stars_review TEXT,\n",
    "    items_out TEXT\n",
    "    )\n",
    "    '''\n",
    ")\n",
    "\n",
    "# Insert data into a the SQLite table\n",
    "for _, row in phones_tablets_data.iterrows():\n",
    "    cursor.execute(\n",
    "        '''\n",
    "        INSERT INTO phones_tablets (name, price, old_price, discount, stars_review, items_out)\n",
    "        VALUES (?, ?, ?, ?, ?, ?)\n",
    "        ''', (row['Name'], row['Price'], row['Old Price'], row['discount'], row['Stars and Reviews'], row['Items Left'])\n",
    "    )\n",
    "\n",
    "# Commit the transaction\n",
    "conn.commit()\n",
    "\n",
    "# Close the connection\n",
    "conn.close()\n",
    "\n",
    "# Confirmation message\n",
    "print(\"Data has been successfully stored in a database\")"
   ]
  },
  {
   "cell_type": "markdown",
   "id": "df9f17c9-a162-463f-a0b3-0025ff85c2ad",
   "metadata": {},
   "source": [
    "## Perform Exploratory Data Analysis(EDA)"
   ]
  },
  {
   "cell_type": "code",
   "execution_count": 104,
   "id": "76c337df-f537-49c8-a3b8-2f0ab7955b92",
   "metadata": {},
   "outputs": [
    {
     "name": "stdout",
     "output_type": "stream",
     "text": [
      "   id                                               name      price  \\\n",
      "0   1  RichRipple Pro3 Bluetooth Headsets Wireless Po...    KSh 465   \n",
      "1   2  RichRipple LED Display Bluetooth Headsets 9D S...    KSh 465   \n",
      "2   3  RichRipple Pro3 Bluetooth Headsets Wireless Po...    KSh 465   \n",
      "3   4  XIAOMI Redmi A3, 6.71\", 4GB RAM +128GB (Dual S...  KSh 9,999   \n",
      "4   5  Ace Elec ACEELEC F9 Wireless Fingerprint Touch...    KSh 395   \n",
      "\n",
      "    old_price discount        stars_review      items_out  \n",
      "0     KSh 754      38%     4 out of 5(554)   Out of stock  \n",
      "1     KSh 920      49%  3.7 out of 5(1000)   Out of stock  \n",
      "2     KSh 826      44%   3.9 out of 5(490)   Out of stock  \n",
      "3  KSh 11,500      13%    4.3 out of 5(55)   Out of stock  \n",
      "4     KSh 790      50%   3.8 out of 5(897)   Out of stock  \n"
     ]
    }
   ],
   "source": [
    "# Load Data from SQLite Database\n",
    "import sqlite3\n",
    "import pandas as pd\n",
    "\n",
    "# Connect to the SQlite database\n",
    "conn = sqlite3.connect('phones_tablets_data.db')\n",
    "\n",
    "# Load data from the database into a DataFrame\n",
    "phones_tablets_data = pd.read_sql_query(\"SELECT * FROM phones_tablets\", conn)\n",
    "\n",
    "# Close the connection\n",
    "conn.close()\n",
    "\n",
    "# Inspect the first few rows\n",
    "print(phones_tablets_data.head())"
   ]
  },
  {
   "cell_type": "markdown",
   "id": "d55bfebb-df92-4567-8af8-31d47e7ac5ac",
   "metadata": {},
   "source": [
    "## Perform Basic Data Checks"
   ]
  },
  {
   "cell_type": "markdown",
   "id": "861398d0-68ca-4df3-8fc1-593f016d1dae",
   "metadata": {},
   "source": [
    "### 1. Check for missing values:"
   ]
  },
  {
   "cell_type": "code",
   "execution_count": 106,
   "id": "beb8e629-74da-4c6f-b29d-019a4b3a9b01",
   "metadata": {},
   "outputs": [
    {
     "name": "stdout",
     "output_type": "stream",
     "text": [
      "id              0\n",
      "name            0\n",
      "price           0\n",
      "old_price       0\n",
      "discount        0\n",
      "stars_review    0\n",
      "items_out       0\n",
      "dtype: int64\n"
     ]
    }
   ],
   "source": [
    "print(phones_tablets_data.isnull().sum())"
   ]
  },
  {
   "cell_type": "markdown",
   "id": "756dd3e3-4ea5-43ab-9122-4201943b48f8",
   "metadata": {},
   "source": [
    "### 2. Check data types:"
   ]
  },
  {
   "cell_type": "code",
   "execution_count": 108,
   "id": "364ba1a1-4e90-4a3c-b401-73ac39e3a9d6",
   "metadata": {},
   "outputs": [
    {
     "name": "stdout",
     "output_type": "stream",
     "text": [
      "id               int64\n",
      "name            object\n",
      "price           object\n",
      "old_price       object\n",
      "discount        object\n",
      "stars_review    object\n",
      "items_out       object\n",
      "dtype: object\n"
     ]
    }
   ],
   "source": [
    "print(phones_tablets_data.dtypes)"
   ]
  },
  {
   "cell_type": "markdown",
   "id": "b3893264-5329-4c30-9b9a-10d3de6b4a8d",
   "metadata": {},
   "source": [
    " ## 3. Check basic statistics"
   ]
  },
  {
   "cell_type": "code",
   "execution_count": 110,
   "id": "efed5ff9-acfc-4c0a-b14d-99f41f464a63",
   "metadata": {},
   "outputs": [
    {
     "data": {
      "text/html": [
       "<div>\n",
       "<style scoped>\n",
       "    .dataframe tbody tr th:only-of-type {\n",
       "        vertical-align: middle;\n",
       "    }\n",
       "\n",
       "    .dataframe tbody tr th {\n",
       "        vertical-align: top;\n",
       "    }\n",
       "\n",
       "    .dataframe thead th {\n",
       "        text-align: right;\n",
       "    }\n",
       "</style>\n",
       "<table border=\"1\" class=\"dataframe\">\n",
       "  <thead>\n",
       "    <tr style=\"text-align: right;\">\n",
       "      <th></th>\n",
       "      <th>id</th>\n",
       "    </tr>\n",
       "  </thead>\n",
       "  <tbody>\n",
       "    <tr>\n",
       "      <th>count</th>\n",
       "      <td>4000.000000</td>\n",
       "    </tr>\n",
       "    <tr>\n",
       "      <th>mean</th>\n",
       "      <td>2000.500000</td>\n",
       "    </tr>\n",
       "    <tr>\n",
       "      <th>std</th>\n",
       "      <td>1154.844867</td>\n",
       "    </tr>\n",
       "    <tr>\n",
       "      <th>min</th>\n",
       "      <td>1.000000</td>\n",
       "    </tr>\n",
       "    <tr>\n",
       "      <th>25%</th>\n",
       "      <td>1000.750000</td>\n",
       "    </tr>\n",
       "    <tr>\n",
       "      <th>50%</th>\n",
       "      <td>2000.500000</td>\n",
       "    </tr>\n",
       "    <tr>\n",
       "      <th>75%</th>\n",
       "      <td>3000.250000</td>\n",
       "    </tr>\n",
       "    <tr>\n",
       "      <th>max</th>\n",
       "      <td>4000.000000</td>\n",
       "    </tr>\n",
       "  </tbody>\n",
       "</table>\n",
       "</div>"
      ],
      "text/plain": [
       "                id\n",
       "count  4000.000000\n",
       "mean   2000.500000\n",
       "std    1154.844867\n",
       "min       1.000000\n",
       "25%    1000.750000\n",
       "50%    2000.500000\n",
       "75%    3000.250000\n",
       "max    4000.000000"
      ]
     },
     "execution_count": 110,
     "metadata": {},
     "output_type": "execute_result"
    }
   ],
   "source": [
    "phones_tablets_data.describe()"
   ]
  },
  {
   "cell_type": "code",
   "execution_count": 112,
   "id": "f59a9c84-46c5-423b-b908-d85597a47b18",
   "metadata": {},
   "outputs": [
    {
     "data": {
      "text/plain": [
       "<bound method DataFrame.info of         id                                               name      price  \\\n",
       "0        1  RichRipple Pro3 Bluetooth Headsets Wireless Po...    KSh 465   \n",
       "1        2  RichRipple LED Display Bluetooth Headsets 9D S...    KSh 465   \n",
       "2        3  RichRipple Pro3 Bluetooth Headsets Wireless Po...    KSh 465   \n",
       "3        4  XIAOMI Redmi A3, 6.71\", 4GB RAM +128GB (Dual S...  KSh 9,999   \n",
       "4        5  Ace Elec ACEELEC F9 Wireless Fingerprint Touch...    KSh 395   \n",
       "...    ...                                                ...        ...   \n",
       "3995  3996  Itel A18s 5.0\" 32GB ROM + Up To 4GB RAM, 5MP, ...  KSh 6,599   \n",
       "3996  3997  Samsung For Samsung Galaxy A11/M11 Case, Retro...    KSh 999   \n",
       "3997  3998  Oraimo OraimoWatch 2 Pro Smart Watch Magnetic ...    KSh 685   \n",
       "3998  3999  Bontel , Wireless Desktop Phone, And Office/FR...  KSh 3,800   \n",
       "3999  4000  Touch Control Wireless Bluetooth Earphones, Mi...    KSh 520   \n",
       "\n",
       "       old_price discount        stars_review      items_out  \n",
       "0        KSh 754      38%     4 out of 5(554)   Out of stock  \n",
       "1        KSh 920      49%  3.7 out of 5(1000)   Out of stock  \n",
       "2        KSh 826      44%   3.9 out of 5(490)   Out of stock  \n",
       "3     KSh 11,500      13%    4.3 out of 5(55)   Out of stock  \n",
       "4        KSh 790      50%   3.8 out of 5(897)   Out of stock  \n",
       "...          ...      ...                 ...            ...  \n",
       "3995  KSh 10,000      34%                       Out of stock  \n",
       "3996   KSh 1,427      30%                       Out of stock  \n",
       "3997   KSh 1,300      47%                       Out of stock  \n",
       "3998   KSh 4,500      16%       5 out of 5(1)   Out of stock  \n",
       "3999                            5 out of 5(1)   Out of stock  \n",
       "\n",
       "[4000 rows x 7 columns]>"
      ]
     },
     "execution_count": 112,
     "metadata": {},
     "output_type": "execute_result"
    }
   ],
   "source": [
    "phones_tablets_data.info"
   ]
  },
  {
   "cell_type": "code",
   "execution_count": 114,
   "id": "77c30528-7b28-4fa8-bd5a-c7be5c18b9be",
   "metadata": {},
   "outputs": [
    {
     "data": {
      "text/html": [
       "<div>\n",
       "<style scoped>\n",
       "    .dataframe tbody tr th:only-of-type {\n",
       "        vertical-align: middle;\n",
       "    }\n",
       "\n",
       "    .dataframe tbody tr th {\n",
       "        vertical-align: top;\n",
       "    }\n",
       "\n",
       "    .dataframe thead th {\n",
       "        text-align: right;\n",
       "    }\n",
       "</style>\n",
       "<table border=\"1\" class=\"dataframe\">\n",
       "  <thead>\n",
       "    <tr style=\"text-align: right;\">\n",
       "      <th></th>\n",
       "      <th>id</th>\n",
       "      <th>name</th>\n",
       "      <th>price</th>\n",
       "      <th>old_price</th>\n",
       "      <th>discount</th>\n",
       "      <th>stars_review</th>\n",
       "      <th>items_out</th>\n",
       "    </tr>\n",
       "  </thead>\n",
       "  <tbody>\n",
       "    <tr>\n",
       "      <th>3995</th>\n",
       "      <td>3996</td>\n",
       "      <td>Itel A18s 5.0\" 32GB ROM + Up To 4GB RAM, 5MP, ...</td>\n",
       "      <td>KSh 6,599</td>\n",
       "      <td>KSh 10,000</td>\n",
       "      <td>34%</td>\n",
       "      <td></td>\n",
       "      <td>Out of stock</td>\n",
       "    </tr>\n",
       "    <tr>\n",
       "      <th>3996</th>\n",
       "      <td>3997</td>\n",
       "      <td>Samsung For Samsung Galaxy A11/M11 Case, Retro...</td>\n",
       "      <td>KSh 999</td>\n",
       "      <td>KSh 1,427</td>\n",
       "      <td>30%</td>\n",
       "      <td></td>\n",
       "      <td>Out of stock</td>\n",
       "    </tr>\n",
       "    <tr>\n",
       "      <th>3997</th>\n",
       "      <td>3998</td>\n",
       "      <td>Oraimo OraimoWatch 2 Pro Smart Watch Magnetic ...</td>\n",
       "      <td>KSh 685</td>\n",
       "      <td>KSh 1,300</td>\n",
       "      <td>47%</td>\n",
       "      <td></td>\n",
       "      <td>Out of stock</td>\n",
       "    </tr>\n",
       "    <tr>\n",
       "      <th>3998</th>\n",
       "      <td>3999</td>\n",
       "      <td>Bontel , Wireless Desktop Phone, And Office/FR...</td>\n",
       "      <td>KSh 3,800</td>\n",
       "      <td>KSh 4,500</td>\n",
       "      <td>16%</td>\n",
       "      <td>5 out of 5(1)</td>\n",
       "      <td>Out of stock</td>\n",
       "    </tr>\n",
       "    <tr>\n",
       "      <th>3999</th>\n",
       "      <td>4000</td>\n",
       "      <td>Touch Control Wireless Bluetooth Earphones, Mi...</td>\n",
       "      <td>KSh 520</td>\n",
       "      <td></td>\n",
       "      <td></td>\n",
       "      <td>5 out of 5(1)</td>\n",
       "      <td>Out of stock</td>\n",
       "    </tr>\n",
       "  </tbody>\n",
       "</table>\n",
       "</div>"
      ],
      "text/plain": [
       "        id                                               name      price  \\\n",
       "3995  3996  Itel A18s 5.0\" 32GB ROM + Up To 4GB RAM, 5MP, ...  KSh 6,599   \n",
       "3996  3997  Samsung For Samsung Galaxy A11/M11 Case, Retro...    KSh 999   \n",
       "3997  3998  Oraimo OraimoWatch 2 Pro Smart Watch Magnetic ...    KSh 685   \n",
       "3998  3999  Bontel , Wireless Desktop Phone, And Office/FR...  KSh 3,800   \n",
       "3999  4000  Touch Control Wireless Bluetooth Earphones, Mi...    KSh 520   \n",
       "\n",
       "       old_price discount   stars_review      items_out  \n",
       "3995  KSh 10,000      34%                  Out of stock  \n",
       "3996   KSh 1,427      30%                  Out of stock  \n",
       "3997   KSh 1,300      47%                  Out of stock  \n",
       "3998   KSh 4,500      16%  5 out of 5(1)   Out of stock  \n",
       "3999                       5 out of 5(1)   Out of stock  "
      ]
     },
     "execution_count": 114,
     "metadata": {},
     "output_type": "execute_result"
    }
   ],
   "source": [
    "phones_tablets_data.tail()"
   ]
  },
  {
   "cell_type": "markdown",
   "id": "182dec8b-1399-49f4-ba5d-e84cea141626",
   "metadata": {},
   "source": [
    "## 4. Data Cleaning and Inspection"
   ]
  },
  {
   "cell_type": "code",
   "execution_count": 120,
   "id": "c69f58fb-dd65-4206-8605-cad1b5295793",
   "metadata": {},
   "outputs": [
    {
     "data": {
      "text/html": [
       "<div>\n",
       "<style scoped>\n",
       "    .dataframe tbody tr th:only-of-type {\n",
       "        vertical-align: middle;\n",
       "    }\n",
       "\n",
       "    .dataframe tbody tr th {\n",
       "        vertical-align: top;\n",
       "    }\n",
       "\n",
       "    .dataframe thead th {\n",
       "        text-align: right;\n",
       "    }\n",
       "</style>\n",
       "<table border=\"1\" class=\"dataframe\">\n",
       "  <thead>\n",
       "    <tr style=\"text-align: right;\">\n",
       "      <th></th>\n",
       "      <th>id</th>\n",
       "      <th>name</th>\n",
       "      <th>price</th>\n",
       "      <th>old_price</th>\n",
       "      <th>discount</th>\n",
       "      <th>stars_review</th>\n",
       "      <th>items_out</th>\n",
       "    </tr>\n",
       "  </thead>\n",
       "  <tbody>\n",
       "    <tr>\n",
       "      <th>0</th>\n",
       "      <td>1</td>\n",
       "      <td>RichRipple Pro3 Bluetooth Headsets Wireless Po...</td>\n",
       "      <td>465.0</td>\n",
       "      <td>754.0</td>\n",
       "      <td>38%</td>\n",
       "      <td>4 out of 5(554)</td>\n",
       "      <td>Out of stock</td>\n",
       "    </tr>\n",
       "    <tr>\n",
       "      <th>1</th>\n",
       "      <td>2</td>\n",
       "      <td>RichRipple LED Display Bluetooth Headsets 9D S...</td>\n",
       "      <td>465.0</td>\n",
       "      <td>920.0</td>\n",
       "      <td>49%</td>\n",
       "      <td>3.7 out of 5(1000)</td>\n",
       "      <td>Out of stock</td>\n",
       "    </tr>\n",
       "    <tr>\n",
       "      <th>2</th>\n",
       "      <td>3</td>\n",
       "      <td>RichRipple Pro3 Bluetooth Headsets Wireless Po...</td>\n",
       "      <td>465.0</td>\n",
       "      <td>826.0</td>\n",
       "      <td>44%</td>\n",
       "      <td>3.9 out of 5(490)</td>\n",
       "      <td>Out of stock</td>\n",
       "    </tr>\n",
       "    <tr>\n",
       "      <th>3</th>\n",
       "      <td>4</td>\n",
       "      <td>XIAOMI Redmi A3, 6.71\", 4GB RAM +128GB (Dual S...</td>\n",
       "      <td>9999.0</td>\n",
       "      <td>11500.0</td>\n",
       "      <td>13%</td>\n",
       "      <td>4.3 out of 5(55)</td>\n",
       "      <td>Out of stock</td>\n",
       "    </tr>\n",
       "    <tr>\n",
       "      <th>4</th>\n",
       "      <td>5</td>\n",
       "      <td>Ace Elec ACEELEC F9 Wireless Fingerprint Touch...</td>\n",
       "      <td>395.0</td>\n",
       "      <td>790.0</td>\n",
       "      <td>50%</td>\n",
       "      <td>3.8 out of 5(897)</td>\n",
       "      <td>Out of stock</td>\n",
       "    </tr>\n",
       "  </tbody>\n",
       "</table>\n",
       "</div>"
      ],
      "text/plain": [
       "   id                                               name   price  old_price  \\\n",
       "0   1  RichRipple Pro3 Bluetooth Headsets Wireless Po...   465.0      754.0   \n",
       "1   2  RichRipple LED Display Bluetooth Headsets 9D S...   465.0      920.0   \n",
       "2   3  RichRipple Pro3 Bluetooth Headsets Wireless Po...   465.0      826.0   \n",
       "3   4  XIAOMI Redmi A3, 6.71\", 4GB RAM +128GB (Dual S...  9999.0    11500.0   \n",
       "4   5  Ace Elec ACEELEC F9 Wireless Fingerprint Touch...   395.0      790.0   \n",
       "\n",
       "  discount        stars_review      items_out  \n",
       "0      38%     4 out of 5(554)   Out of stock  \n",
       "1      49%  3.7 out of 5(1000)   Out of stock  \n",
       "2      44%   3.9 out of 5(490)   Out of stock  \n",
       "3      13%    4.3 out of 5(55)   Out of stock  \n",
       "4      50%   3.8 out of 5(897)   Out of stock  "
      ]
     },
     "execution_count": 120,
     "metadata": {},
     "output_type": "execute_result"
    }
   ],
   "source": [
    "phones_tablets_data.head()"
   ]
  },
  {
   "cell_type": "code",
   "execution_count": 126,
   "id": "b1560ff7-38a0-491a-91a4-c5948796e807",
   "metadata": {},
   "outputs": [
    {
     "data": {
      "text/html": [
       "<div>\n",
       "<style scoped>\n",
       "    .dataframe tbody tr th:only-of-type {\n",
       "        vertical-align: middle;\n",
       "    }\n",
       "\n",
       "    .dataframe tbody tr th {\n",
       "        vertical-align: top;\n",
       "    }\n",
       "\n",
       "    .dataframe thead th {\n",
       "        text-align: right;\n",
       "    }\n",
       "</style>\n",
       "<table border=\"1\" class=\"dataframe\">\n",
       "  <thead>\n",
       "    <tr style=\"text-align: right;\">\n",
       "      <th></th>\n",
       "      <th>id</th>\n",
       "      <th>name</th>\n",
       "      <th>price</th>\n",
       "      <th>old_price</th>\n",
       "      <th>discount</th>\n",
       "      <th>stars_review</th>\n",
       "      <th>items_out</th>\n",
       "    </tr>\n",
       "  </thead>\n",
       "  <tbody>\n",
       "    <tr>\n",
       "      <th>3900</th>\n",
       "      <td>3901</td>\n",
       "      <td>Samsung Galaxy S10 6.1\" 128GB ROM + 8GB RAM - ...</td>\n",
       "      <td>39000.0</td>\n",
       "      <td>NaN</td>\n",
       "      <td></td>\n",
       "      <td></td>\n",
       "      <td>Out of stock</td>\n",
       "    </tr>\n",
       "    <tr>\n",
       "      <th>3901</th>\n",
       "      <td>3902</td>\n",
       "      <td>OPPO A3S Refurbished   64GB + 4GB RAM  6.2-inc...</td>\n",
       "      <td>8800.0</td>\n",
       "      <td>13800.0</td>\n",
       "      <td>36%</td>\n",
       "      <td></td>\n",
       "      <td>Out of stock</td>\n",
       "    </tr>\n",
       "    <tr>\n",
       "      <th>3902</th>\n",
       "      <td>3903</td>\n",
       "      <td>Itel It 2160, 1.77''  (Mpesa Phone) KABAMBE PH...</td>\n",
       "      <td>1899.0</td>\n",
       "      <td>2000.0</td>\n",
       "      <td>5%</td>\n",
       "      <td>5 out of 5(2)</td>\n",
       "      <td>Out of stock</td>\n",
       "    </tr>\n",
       "    <tr>\n",
       "      <th>3903</th>\n",
       "      <td>3904</td>\n",
       "      <td>Smart OS - 128-EGGS DC / AC CONVERTER AUTOMATI...</td>\n",
       "      <td>18549.0</td>\n",
       "      <td>22200.0</td>\n",
       "      <td>16%</td>\n",
       "      <td>5 out of 5(2)</td>\n",
       "      <td>Out of stock</td>\n",
       "    </tr>\n",
       "    <tr>\n",
       "      <th>3904</th>\n",
       "      <td>3905</td>\n",
       "      <td>Air Pro 3 Wireless Bluetooth Pods,Wireless - W...</td>\n",
       "      <td>1794.0</td>\n",
       "      <td>3399.0</td>\n",
       "      <td>47%</td>\n",
       "      <td>3 out of 5(2)</td>\n",
       "      <td>Out of stock</td>\n",
       "    </tr>\n",
       "    <tr>\n",
       "      <th>...</th>\n",
       "      <td>...</td>\n",
       "      <td>...</td>\n",
       "      <td>...</td>\n",
       "      <td>...</td>\n",
       "      <td>...</td>\n",
       "      <td>...</td>\n",
       "      <td>...</td>\n",
       "    </tr>\n",
       "    <tr>\n",
       "      <th>3995</th>\n",
       "      <td>3996</td>\n",
       "      <td>Itel A18s 5.0\" 32GB ROM + Up To 4GB RAM, 5MP, ...</td>\n",
       "      <td>6599.0</td>\n",
       "      <td>10000.0</td>\n",
       "      <td>34%</td>\n",
       "      <td></td>\n",
       "      <td>Out of stock</td>\n",
       "    </tr>\n",
       "    <tr>\n",
       "      <th>3996</th>\n",
       "      <td>3997</td>\n",
       "      <td>Samsung For Samsung Galaxy A11/M11 Case, Retro...</td>\n",
       "      <td>999.0</td>\n",
       "      <td>1427.0</td>\n",
       "      <td>30%</td>\n",
       "      <td></td>\n",
       "      <td>Out of stock</td>\n",
       "    </tr>\n",
       "    <tr>\n",
       "      <th>3997</th>\n",
       "      <td>3998</td>\n",
       "      <td>Oraimo OraimoWatch 2 Pro Smart Watch Magnetic ...</td>\n",
       "      <td>685.0</td>\n",
       "      <td>1300.0</td>\n",
       "      <td>47%</td>\n",
       "      <td></td>\n",
       "      <td>Out of stock</td>\n",
       "    </tr>\n",
       "    <tr>\n",
       "      <th>3998</th>\n",
       "      <td>3999</td>\n",
       "      <td>Bontel , Wireless Desktop Phone, And Office/FR...</td>\n",
       "      <td>3800.0</td>\n",
       "      <td>4500.0</td>\n",
       "      <td>16%</td>\n",
       "      <td>5 out of 5(1)</td>\n",
       "      <td>Out of stock</td>\n",
       "    </tr>\n",
       "    <tr>\n",
       "      <th>3999</th>\n",
       "      <td>4000</td>\n",
       "      <td>Touch Control Wireless Bluetooth Earphones, Mi...</td>\n",
       "      <td>520.0</td>\n",
       "      <td>NaN</td>\n",
       "      <td></td>\n",
       "      <td>5 out of 5(1)</td>\n",
       "      <td>Out of stock</td>\n",
       "    </tr>\n",
       "  </tbody>\n",
       "</table>\n",
       "<p>100 rows × 7 columns</p>\n",
       "</div>"
      ],
      "text/plain": [
       "        id                                               name    price  \\\n",
       "3900  3901  Samsung Galaxy S10 6.1\" 128GB ROM + 8GB RAM - ...  39000.0   \n",
       "3901  3902  OPPO A3S Refurbished   64GB + 4GB RAM  6.2-inc...   8800.0   \n",
       "3902  3903  Itel It 2160, 1.77''  (Mpesa Phone) KABAMBE PH...   1899.0   \n",
       "3903  3904  Smart OS - 128-EGGS DC / AC CONVERTER AUTOMATI...  18549.0   \n",
       "3904  3905  Air Pro 3 Wireless Bluetooth Pods,Wireless - W...   1794.0   \n",
       "...    ...                                                ...      ...   \n",
       "3995  3996  Itel A18s 5.0\" 32GB ROM + Up To 4GB RAM, 5MP, ...   6599.0   \n",
       "3996  3997  Samsung For Samsung Galaxy A11/M11 Case, Retro...    999.0   \n",
       "3997  3998  Oraimo OraimoWatch 2 Pro Smart Watch Magnetic ...    685.0   \n",
       "3998  3999  Bontel , Wireless Desktop Phone, And Office/FR...   3800.0   \n",
       "3999  4000  Touch Control Wireless Bluetooth Earphones, Mi...    520.0   \n",
       "\n",
       "      old_price discount   stars_review      items_out  \n",
       "3900        NaN                           Out of stock  \n",
       "3901    13800.0      36%                  Out of stock  \n",
       "3902     2000.0       5%  5 out of 5(2)   Out of stock  \n",
       "3903    22200.0      16%  5 out of 5(2)   Out of stock  \n",
       "3904     3399.0      47%  3 out of 5(2)   Out of stock  \n",
       "...         ...      ...            ...            ...  \n",
       "3995    10000.0      34%                  Out of stock  \n",
       "3996     1427.0      30%                  Out of stock  \n",
       "3997     1300.0      47%                  Out of stock  \n",
       "3998     4500.0      16%  5 out of 5(1)   Out of stock  \n",
       "3999        NaN           5 out of 5(1)   Out of stock  \n",
       "\n",
       "[100 rows x 7 columns]"
      ]
     },
     "execution_count": 126,
     "metadata": {},
     "output_type": "execute_result"
    }
   ],
   "source": [
    "phones_tablets_data.tail(100)"
   ]
  },
  {
   "cell_type": "code",
   "execution_count": 128,
   "id": "3b74de87-6c4a-4486-851a-543a639f6a2a",
   "metadata": {},
   "outputs": [
    {
     "data": {
      "text/html": [
       "<div>\n",
       "<style scoped>\n",
       "    .dataframe tbody tr th:only-of-type {\n",
       "        vertical-align: middle;\n",
       "    }\n",
       "\n",
       "    .dataframe tbody tr th {\n",
       "        vertical-align: top;\n",
       "    }\n",
       "\n",
       "    .dataframe thead th {\n",
       "        text-align: right;\n",
       "    }\n",
       "</style>\n",
       "<table border=\"1\" class=\"dataframe\">\n",
       "  <thead>\n",
       "    <tr style=\"text-align: right;\">\n",
       "      <th></th>\n",
       "      <th>id</th>\n",
       "      <th>price</th>\n",
       "      <th>old_price</th>\n",
       "    </tr>\n",
       "  </thead>\n",
       "  <tbody>\n",
       "    <tr>\n",
       "      <th>count</th>\n",
       "      <td>4000.000000</td>\n",
       "      <td>4000.00000</td>\n",
       "      <td>3612.000000</td>\n",
       "    </tr>\n",
       "    <tr>\n",
       "      <th>mean</th>\n",
       "      <td>2000.500000</td>\n",
       "      <td>8766.65800</td>\n",
       "      <td>12862.595653</td>\n",
       "    </tr>\n",
       "    <tr>\n",
       "      <th>std</th>\n",
       "      <td>1154.844867</td>\n",
       "      <td>15595.80517</td>\n",
       "      <td>17678.554291</td>\n",
       "    </tr>\n",
       "    <tr>\n",
       "      <th>min</th>\n",
       "      <td>1.000000</td>\n",
       "      <td>20.00000</td>\n",
       "      <td>107.000000</td>\n",
       "    </tr>\n",
       "    <tr>\n",
       "      <th>25%</th>\n",
       "      <td>1000.750000</td>\n",
       "      <td>745.00000</td>\n",
       "      <td>1200.000000</td>\n",
       "    </tr>\n",
       "    <tr>\n",
       "      <th>50%</th>\n",
       "      <td>2000.500000</td>\n",
       "      <td>2097.50000</td>\n",
       "      <td>3651.000000</td>\n",
       "    </tr>\n",
       "    <tr>\n",
       "      <th>75%</th>\n",
       "      <td>3000.250000</td>\n",
       "      <td>13199.00000</td>\n",
       "      <td>20000.000000</td>\n",
       "    </tr>\n",
       "    <tr>\n",
       "      <th>max</th>\n",
       "      <td>4000.000000</td>\n",
       "      <td>189999.00000</td>\n",
       "      <td>260000.000000</td>\n",
       "    </tr>\n",
       "  </tbody>\n",
       "</table>\n",
       "</div>"
      ],
      "text/plain": [
       "                id         price      old_price\n",
       "count  4000.000000    4000.00000    3612.000000\n",
       "mean   2000.500000    8766.65800   12862.595653\n",
       "std    1154.844867   15595.80517   17678.554291\n",
       "min       1.000000      20.00000     107.000000\n",
       "25%    1000.750000     745.00000    1200.000000\n",
       "50%    2000.500000    2097.50000    3651.000000\n",
       "75%    3000.250000   13199.00000   20000.000000\n",
       "max    4000.000000  189999.00000  260000.000000"
      ]
     },
     "execution_count": 128,
     "metadata": {},
     "output_type": "execute_result"
    }
   ],
   "source": [
    "phones_tablets_data.describe() # summary statistis for numerical columns"
   ]
  },
  {
   "cell_type": "code",
   "execution_count": 136,
   "id": "d4a0425f-2da1-406f-98c7-69795f8c5617",
   "metadata": {},
   "outputs": [
    {
     "name": "stdout",
     "output_type": "stream",
     "text": [
      "Index(['id', 'name', 'price', 'old_price', 'discount', 'stars_review',\n",
      "       'items_out'],\n",
      "      dtype='object')\n"
     ]
    }
   ],
   "source": [
    "#Check the column names\n",
    "print(phones_tablets_data.columns)"
   ]
  },
  {
   "cell_type": "code",
   "execution_count": 156,
   "id": "6df3cdda-c653-4169-9901-bcd973d2c4ad",
   "metadata": {},
   "outputs": [
    {
     "name": "stdout",
     "output_type": "stream",
     "text": [
      "None\n"
     ]
    }
   ],
   "source": [
    "print(phones_tablets_data.rename(columns={'id':'No','name':'Name','price':'Price','old_price':'Old Price', 'discount':'Discount', 'stars_review':'Stars Review', 'items_out': 'Items Left'}, inplace=True))"
   ]
  },
  {
   "cell_type": "code",
   "execution_count": 158,
   "id": "a7326c45-ba5c-4596-8b72-90665a64569e",
   "metadata": {},
   "outputs": [
    {
     "data": {
      "text/html": [
       "<div>\n",
       "<style scoped>\n",
       "    .dataframe tbody tr th:only-of-type {\n",
       "        vertical-align: middle;\n",
       "    }\n",
       "\n",
       "    .dataframe tbody tr th {\n",
       "        vertical-align: top;\n",
       "    }\n",
       "\n",
       "    .dataframe thead th {\n",
       "        text-align: right;\n",
       "    }\n",
       "</style>\n",
       "<table border=\"1\" class=\"dataframe\">\n",
       "  <thead>\n",
       "    <tr style=\"text-align: right;\">\n",
       "      <th></th>\n",
       "      <th>No</th>\n",
       "      <th>Name</th>\n",
       "      <th>Price</th>\n",
       "      <th>Old Price</th>\n",
       "      <th>Discount</th>\n",
       "      <th>Stars Review</th>\n",
       "      <th>Items Left</th>\n",
       "    </tr>\n",
       "  </thead>\n",
       "  <tbody>\n",
       "    <tr>\n",
       "      <th>0</th>\n",
       "      <td>1</td>\n",
       "      <td>RichRipple Pro3 Bluetooth Headsets Wireless Po...</td>\n",
       "      <td>465.0</td>\n",
       "      <td>754.0</td>\n",
       "      <td>38%</td>\n",
       "      <td>4 out of 5(554)</td>\n",
       "      <td>Out of stock</td>\n",
       "    </tr>\n",
       "    <tr>\n",
       "      <th>1</th>\n",
       "      <td>2</td>\n",
       "      <td>RichRipple LED Display Bluetooth Headsets 9D S...</td>\n",
       "      <td>465.0</td>\n",
       "      <td>920.0</td>\n",
       "      <td>49%</td>\n",
       "      <td>3.7 out of 5(1000)</td>\n",
       "      <td>Out of stock</td>\n",
       "    </tr>\n",
       "    <tr>\n",
       "      <th>2</th>\n",
       "      <td>3</td>\n",
       "      <td>RichRipple Pro3 Bluetooth Headsets Wireless Po...</td>\n",
       "      <td>465.0</td>\n",
       "      <td>826.0</td>\n",
       "      <td>44%</td>\n",
       "      <td>3.9 out of 5(490)</td>\n",
       "      <td>Out of stock</td>\n",
       "    </tr>\n",
       "    <tr>\n",
       "      <th>3</th>\n",
       "      <td>4</td>\n",
       "      <td>XIAOMI Redmi A3, 6.71\", 4GB RAM +128GB (Dual S...</td>\n",
       "      <td>9999.0</td>\n",
       "      <td>11500.0</td>\n",
       "      <td>13%</td>\n",
       "      <td>4.3 out of 5(55)</td>\n",
       "      <td>Out of stock</td>\n",
       "    </tr>\n",
       "    <tr>\n",
       "      <th>4</th>\n",
       "      <td>5</td>\n",
       "      <td>Ace Elec ACEELEC F9 Wireless Fingerprint Touch...</td>\n",
       "      <td>395.0</td>\n",
       "      <td>790.0</td>\n",
       "      <td>50%</td>\n",
       "      <td>3.8 out of 5(897)</td>\n",
       "      <td>Out of stock</td>\n",
       "    </tr>\n",
       "  </tbody>\n",
       "</table>\n",
       "</div>"
      ],
      "text/plain": [
       "   No                                               Name   Price  Old Price  \\\n",
       "0   1  RichRipple Pro3 Bluetooth Headsets Wireless Po...   465.0      754.0   \n",
       "1   2  RichRipple LED Display Bluetooth Headsets 9D S...   465.0      920.0   \n",
       "2   3  RichRipple Pro3 Bluetooth Headsets Wireless Po...   465.0      826.0   \n",
       "3   4  XIAOMI Redmi A3, 6.71\", 4GB RAM +128GB (Dual S...  9999.0    11500.0   \n",
       "4   5  Ace Elec ACEELEC F9 Wireless Fingerprint Touch...   395.0      790.0   \n",
       "\n",
       "  Discount        Stars Review     Items Left  \n",
       "0      38%     4 out of 5(554)   Out of stock  \n",
       "1      49%  3.7 out of 5(1000)   Out of stock  \n",
       "2      44%   3.9 out of 5(490)   Out of stock  \n",
       "3      13%    4.3 out of 5(55)   Out of stock  \n",
       "4      50%   3.8 out of 5(897)   Out of stock  "
      ]
     },
     "execution_count": 158,
     "metadata": {},
     "output_type": "execute_result"
    }
   ],
   "source": [
    "phones_tablets_data.head()"
   ]
  },
  {
   "cell_type": "code",
   "execution_count": 146,
   "id": "c7f2f581-7bff-4c7b-aaec-b7c89c544d13",
   "metadata": {},
   "outputs": [
    {
     "data": {
      "text/plain": [
       "No                int64\n",
       "Name             object\n",
       "Price           float64\n",
       "Old Price       float64\n",
       "Discount         object\n",
       "Stars Review     object\n",
       "Items Left       object\n",
       "dtype: object"
      ]
     },
     "execution_count": 146,
     "metadata": {},
     "output_type": "execute_result"
    }
   ],
   "source": [
    "# Check data types after cleaning\n",
    "phones_tablets_data.dtypes"
   ]
  },
  {
   "cell_type": "code",
   "execution_count": 168,
   "id": "40596313-5089-422f-a2e3-e8d5f05f7ef2",
   "metadata": {},
   "outputs": [
    {
     "name": "stdout",
     "output_type": "stream",
     "text": [
      "Stars Review\n",
      "                    898\n",
      "5 out of 5(1)       337\n",
      "5 out of 5(2)       128\n",
      "4.5 out of 5(2)      71\n",
      "4 out of 5(1)        65\n",
      "                   ... \n",
      "3.3 out of 5(66)      1\n",
      "4.4 out of 5(17)      1\n",
      "3.7 out of 5(43)      1\n",
      "3.9 out of 5(21)      1\n",
      "4.4 out of 5(15)      1\n",
      "Name: count, Length: 599, dtype: int64\n",
      "Items Left\n",
      " Out of stock    4000\n",
      "Name: count, dtype: int64\n"
     ]
    }
   ],
   "source": [
    "# Count unique values in a categorical columns\n",
    "print(phones_tablets_data['Stars Review'].value_counts())\n",
    "print(phones_tablets_data['Items Left'].value_counts())"
   ]
  },
  {
   "cell_type": "markdown",
   "id": "da2294f6-5687-421f-b48a-869da54ff0a7",
   "metadata": {},
   "source": [
    "## 5. Data Visualization"
   ]
  },
  {
   "cell_type": "markdown",
   "id": "36809197-0b69-4458-916d-3b0f13ae3ebb",
   "metadata": {},
   "source": [
    "#### Visualize the distribution of price"
   ]
  },
  {
   "cell_type": "code",
   "execution_count": 175,
   "id": "6cb0f1fb-22f4-4935-97fe-d954e1d62c19",
   "metadata": {},
   "outputs": [
    {
     "name": "stderr",
     "output_type": "stream",
     "text": [
      "C:\\Users\\User\\anaconda3\\Lib\\site-packages\\seaborn\\_oldcore.py:1119: FutureWarning: use_inf_as_na option is deprecated and will be removed in a future version. Convert inf values to NaN before operating instead.\n",
      "  with pd.option_context('mode.use_inf_as_na', True):\n"
     ]
    },
    {
     "data": {
      "image/png": "[encoded data removed]",
      "text/plain": [
       "<Figure size 1000x600 with 1 Axes>"
      ]
     },
     "metadata": {},
     "output_type": "display_data"
    }
   ],
   "source": [
    "import matplotlib.pyplot as plt\n",
    "import seaborn as sns\n",
    "\n",
    "plt.figure(figsize=(10,6))\n",
    "sns.histplot(phones_tablets_data['Price'], kde = True)\n",
    "plt.title('Price Distribution')\n",
    "plt.xlabel('Price in KSH')\n",
    "plt.ylabel('Frequency')\n",
    "plt.show()"
   ]
  },
  {
   "cell_type": "markdown",
   "id": "dfee351f-bf55-4d25-af6f-65bf8b6b7b5a",
   "metadata": {},
   "source": [
    "####  Discount Distribution"
   ]
  },
  {
   "cell_type": "code",
   "execution_count": 178,
   "id": "dd1d75a4-c0b5-40c6-af6e-5d4a17606f74",
   "metadata": {},
   "outputs": [
    {
     "name": "stderr",
     "output_type": "stream",
     "text": [
      "C:\\Users\\User\\anaconda3\\Lib\\site-packages\\seaborn\\_oldcore.py:1119: FutureWarning: use_inf_as_na option is deprecated and will be removed in a future version. Convert inf values to NaN before operating instead.\n",
      "  with pd.option_context('mode.use_inf_as_na', True):\n"
     ]
    },
    {
     "data": {
      "image/png": "[encoded data removed]",
      "text/plain": [
       "<Figure size 1000x600 with 1 Axes>"
      ]
     },
     "metadata": {},
     "output_type": "display_data"
    }
   ],
   "source": [
    "plt.figure(figsize=(10, 6))\n",
    "sns.histplot(phones_tablets_data['Discount'], kde=True)\n",
    "plt.title('Discount Distribution')\n",
    "plt.xlabel('Discount (%)')\n",
    "plt.ylabel('Frequency')\n",
    "plt.show()\n"
   ]
  },
  {
   "cell_type": "markdown",
   "id": "2ba3ea08-b9c4-4c99-9b62-352e61af6d9f",
   "metadata": {},
   "source": [
    "#### Visualize Price and Discount scatterplot"
   ]
  },
  {
   "cell_type": "code",
   "execution_count": 181,
   "id": "6b6b8659-4cbb-4d06-9ae5-e92c66e965e9",
   "metadata": {},
   "outputs": [
    {
     "data": {
      "image/png": "[encoded data removed]",
      "text/plain": [
       "<Figure size 1000x600 with 1 Axes>"
      ]
     },
     "metadata": {},
     "output_type": "display_data"
    }
   ],
   "source": [
    "plt.figure(figsize=(10, 6))\n",
    "sns.scatterplot(x='Discount', y='Price', data=phones_tablets_data)\n",
    "plt.title('Price vs. Discount')\n",
    "plt.xlabel('Discount (%)')\n",
    "plt.ylabel('Price (KSH)')\n",
    "plt.show()"
   ]
  },
  {
   "cell_type": "code",
   "execution_count": null,
   "id": "b71934dc-15cc-455c-a79d-2505e669b239",
   "metadata": {},
   "outputs": [],
   "source": []
  }
 ],
 "metadata": {
  "kernelspec": {
   "display_name": "Python 3 (ipykernel)",
   "language": "python",
   "name": "python3"
  },
  "language_info": {
   "codemirror_mode": {
    "name": "ipython",
    "version": 3
   },
   "file_extension": ".py",
   "mimetype": "text/x-python",
   "name": "python",
   "nbconvert_exporter": "python",
   "pygments_lexer": "ipython3",
   "version": "3.11.7"
  }
 },
 "nbformat": 4,
 "nbformat_minor": 5
}
